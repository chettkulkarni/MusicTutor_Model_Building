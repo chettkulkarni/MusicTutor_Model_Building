{
  "nbformat": 4,
  "nbformat_minor": 0,
  "metadata": {
    "colab": {
      "name": "Feature Extraction.ipynb",
      "provenance": [],
      "collapsed_sections": [],
      "authorship_tag": "ABX9TyML9q0oIdBBkcBx+97MYUMa",
      "include_colab_link": true
    },
    "kernelspec": {
      "name": "python3",
      "display_name": "Python 3"
    },
    "language_info": {
      "name": "python"
    }
  },
  "cells": [
    {
      "cell_type": "markdown",
      "metadata": {
        "id": "view-in-github",
        "colab_type": "text"
      },
      "source": [
        "<a href=\"https://colab.research.google.com/github/chettkulkarni/MusicTutor_Model_Building/blob/main/Feature_Extraction.ipynb\" target=\"_parent\"><img src=\"https://colab.research.google.com/assets/colab-badge.svg\" alt=\"Open In Colab\"/></a>"
      ]
    },
    {
      "cell_type": "markdown",
      "metadata": {
        "id": "xTJsLmg9Rb1h"
      },
      "source": [
        "# *Appriciating Indian Music using AI*\n",
        "\n",
        "---\n",
        "\n",
        "\n",
        "##### Chetan | Nupur | Lokesh\n",
        "##### **Advisor : Vishnu Pendyala**\n",
        "\n",
        "\n",
        "\n",
        "---\n",
        "\n",
        "\n",
        "## Feature Extraction\n",
        "\n",
        "\n",
        "---\n",
        "\n",
        "Extracted features:\n",
        "\n",
        "\n",
        "1.   **Chromagram**\n",
        "\n",
        "  The term chroma feature or chromagram closely relates to the twelve different pitch classes. Chroma-based features are a powerful tool for analyzing music whose pitches can be meaningfully categorized.\n",
        "2.   **Sprctrogram**\n",
        "\n",
        "  A spectrogram is a visual representation of the spectrum of frequencies of a signal as it varies with time. When applied to an audio signal, spectrograms are sometimes called sonographs, voiceprints, or voicegrams.\n",
        "\n",
        "3. **Mel Frequency Cepstrum**\n",
        "\n",
        "  The MFCCs are a very powerful representation of an audio signal as it scales the frequency in order to match more closely what the human ear can hear.\n",
        "\n",
        "\n"
      ]
    },
    {
      "cell_type": "markdown",
      "metadata": {
        "id": "ByOmHRxqTgjC"
      },
      "source": [
        "# Necessary Libraries"
      ]
    },
    {
      "cell_type": "code",
      "metadata": {
        "id": "mHwkJDQWmnbG"
      },
      "source": [
        "# feature extractoring and preprocessing data\n",
        "!apt install ffmpeg\n",
        "!sudo apt-get install libav-tools\n",
        "!sudo apt-get install ffmpeg \n",
        "import librosa\n",
        "import pandas as pd\n",
        "import numpy as np\n",
        "import matplotlib.pyplot as plt\n",
        "%matplotlib inline\n",
        "import os\n",
        "from PIL import Image\n",
        "import pathlib\n",
        "import csv\n",
        "\n",
        "# Preprocessing\n",
        "from sklearn.model_selection import train_test_split\n",
        "from sklearn.preprocessing import LabelEncoder, StandardScaler\n",
        "\n",
        "#Keras\n",
        "import keras\n",
        "\n",
        "import warnings\n",
        "warnings.filterwarnings('ignore')\n",
        "\n",
        "import re\n",
        "import numpy as np\n",
        "\n",
        "import tensorflow.compat.v1 as tf\n",
        "tf.disable_eager_execution()\n",
        "import tensorflow_hub as hub\n",
        "import tensorflow_datasets as tfds\n",
        "\n",
        "import matplotlib\n",
        "import matplotlib.pyplot as plt\n",
        "from tensorflow.keras import layers"
      ],
      "execution_count": null,
      "outputs": []
    },
    {
      "cell_type": "markdown",
      "metadata": {
        "id": "m11AxSX4TmJ-"
      },
      "source": [
        "# Chromagram"
      ]
    },
    {
      "cell_type": "code",
      "metadata": {
        "id": "NE3XIhgsnZyl"
      },
      "source": [
        "genres = raagList\n",
        "for g in genres:\n",
        "    pathlib.Path(f'/content/img_data/{g}').mkdir(parents=True, exist_ok=True) \n",
        "    for filename in os.listdir(f'/content/drive/MyDrive/SplitSongs/{g}'):\n",
        "        print(g,filename)\n",
        "        if filename=='.ipynb_checkpoints' or filename=='.DS_Store':\n",
        "          continue\n",
        "        songname = f'/content/drive/MyDrive/SplitSongs/{g}/{filename}'\n",
        "        y, sr = librosa.load(songname, mono=True)\n",
        "        plt.figure(figsize=(15,5))\n",
        "        chromagra=librosa.feature.chroma_stft(y=y,sr=sr)\n",
        "        librosa.display.specshow(chromagra)\n",
        "        path1='/content/img_data/'+g\n",
        "        plt.savefig(path1+'/{}png'.format(filename[:-3]))\n",
        "        plt.clf()"
      ],
      "execution_count": null,
      "outputs": []
    },
    {
      "cell_type": "markdown",
      "metadata": {
        "id": "Rc9hmMnwTuyQ"
      },
      "source": [
        "# Spectrogram"
      ]
    },
    {
      "cell_type": "code",
      "metadata": {
        "id": "kdxDlxmBpN8D"
      },
      "source": [
        "genres = raagList\n",
        "for g in genres:\n",
        "    pathlib.Path(f'/content/img_data/{g}').mkdir(parents=True, exist_ok=True) \n",
        "    for filename in os.listdir(f'/content/drive/MyDrive/SplitSongs/{g}'):\n",
        "        print(g,filename)\n",
        "        if filename=='.ipynb_checkpoints' or filename=='.DS_Store':\n",
        "          continue\n",
        "        songname = f'/content/drive/MyDrive/SplitSongs/{g}/{filename}'\n",
        "        y, sr = librosa.load(songname, mono=True)\n",
        "        plt.figure(figsize=(15,5))\n",
        "        chromagra=librosa.feature.chroma_stft(y=y,sr=sr)\n",
        "        librosa.display.specshow(chromagra)\n",
        "        \n",
        "        path1='/content/img_data/'+g\n",
        "        plt.savefig(path1+'/{}png'.format(filename[:-3]))\n",
        "        plt.clf()"
      ],
      "execution_count": null,
      "outputs": []
    },
    {
      "cell_type": "markdown",
      "metadata": {
        "id": "43HcffteT1Il"
      },
      "source": [
        "# MFCC\n",
        "Each song is split into 10 segments.\n",
        "and Snapshot of that segment is taken and MFCC is created"
      ]
    },
    {
      "cell_type": "code",
      "metadata": {
        "id": "r9pZWgmcpb46"
      },
      "source": [
        "import json\n",
        "import os\n",
        "import math\n",
        "import librosa\n",
        "\n",
        "DATASET_PATH = \"/content/processed/RagaDatasetNew\"\n",
        "JSON_PATH = \"data_10.json\"\n",
        "SAMPLE_RATE = 22050\n",
        "TRACK_DURATION = 30 # measured in seconds\n",
        "SAMPLES_PER_TRACK = SAMPLE_RATE * TRACK_DURATION\n",
        "\n",
        "\n",
        "def save_mfcc(dataset_path, json_path, num_mfcc=13, n_fft=2048, hop_length=512, num_segments=5):\n",
        "    \"\"\"Extracts MFCCs from music dataset and saves them into a json file along witgh genre labels.\n",
        "\n",
        "        :param dataset_path (str): Path to dataset\n",
        "        :param json_path (str): Path to json file used to save MFCCs\n",
        "        :param num_mfcc (int): Number of coefficients to extract\n",
        "        :param n_fft (int): Interval we consider to apply FFT. Measured in # of samples\n",
        "        :param hop_length (int): Sliding window for FFT. Measured in # of samples\n",
        "        :param: num_segments (int): Number of segments we want to divide sample tracks into\n",
        "        :return:\n",
        "        \"\"\"\n",
        "\n",
        "    # dictionary to store mapping, labels, and MFCCs\n",
        "    data = {\n",
        "        \"mapping\": [],\n",
        "        \"labels\": [],\n",
        "        \"mfcc\": [],\n",
        "        \"Xdb\" : []\n",
        "    }\n",
        "\n",
        "    samples_per_segment = int(SAMPLES_PER_TRACK / num_segments)\n",
        "    num_mfcc_vectors_per_segment = math.ceil(samples_per_segment / hop_length)\n",
        "    \n",
        "      # loop through all genre sub-folder\n",
        "    for i, (dirpath, dirnames, filenames) in enumerate(os.walk(dataset_path)):\n",
        "        \n",
        "        try:\n",
        "          # ensure we're processing a genre sub-folder level\n",
        "          if dirpath is not dataset_path:\n",
        "\n",
        "              # save genre label (i.e., sub-folder name) in the mapping\n",
        "              semantic_label = dirpath.split(\"/\")[-1]\n",
        "              data[\"mapping\"].append(semantic_label)\n",
        "              print(\"\\nProcessing: {}\".format(semantic_label))\n",
        "\n",
        "              # process all audio files in genre sub-dir\n",
        "              for f in filenames:\n",
        "                  \n",
        "\n",
        "      # load audio file\n",
        "                  file_path = os.path.join(dirpath, f)\n",
        "                  signal, sample_rate = librosa.load(file_path, sr=SAMPLE_RATE)\n",
        "\n",
        "                  # process all segments of audio file\n",
        "                  for d in range(num_segments):\n",
        "\n",
        "                      # calculate start and finish sample for current segment\n",
        "                      start = samples_per_segment * d\n",
        "                      finish = start + samples_per_segment\n",
        "\n",
        "                      # extract mfcc\n",
        "                      mfcc = librosa.feature.mfcc(signal[start:finish], sample_rate, n_mfcc=num_mfcc, n_fft=n_fft, hop_length=hop_length)\n",
        "                      mfcc = mfcc.T\n",
        "\n",
        "                      X = librosa.stft(signal[start:finish])\n",
        "                      Xdb = librosa.amplitude_to_db(abs(X))\n",
        "                      Xdb = Xdb.T\n",
        "                      print(Xdb)\n",
        "\n",
        "\n",
        "                      spectral_centroid_var=librosa.feature.spectral_centroid(signal[start:finish], sr=sample_rate)[0]\n",
        "                      spectral_centroid_var=spectral_centroid_var.T\n",
        "\n",
        "                      # store only mfcc feature with expected number of vectors\n",
        "                      if len(mfcc) == num_mfcc_vectors_per_segment:\n",
        "                          data[\"mfcc\"].append(mfcc.tolist())\n",
        "                          data[\"Xdb\"].append(Xdb.tolist())\n",
        "                          data[\"spectral_centroid_var\"].append(spectral_centroid_var.tolist())\n",
        "                          data[\"labels\"].append(i-1)\n",
        "\n",
        "                          print(\"{}, segment:{}\".format(file_path, d+1))\n",
        "                      \n",
        "                          \n",
        "        except:\n",
        "          continue\n",
        "\n",
        "      # save MFCCs to json file\n",
        "    with open(json_path, \"w\") as fp:\n",
        "          json.dump(data, fp, indent=4)\n",
        "        \n",
        "        "
      ],
      "execution_count": null,
      "outputs": []
    }
  ]
}